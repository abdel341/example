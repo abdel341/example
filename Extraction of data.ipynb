{
 "cells": [
  {
   "cell_type": "markdown",
   "metadata": {},
   "source": [
    "# Capstone Project : Toronto's neighberhoods clustering\n",
    "## Data extraction from the Wikipedia page"
   ]
  },
  {
   "cell_type": "code",
   "execution_count": 70,
   "metadata": {},
   "outputs": [
    {
     "data": {
      "text/plain": [
       "(103, 3)"
      ]
     },
     "execution_count": 70,
     "metadata": {},
     "output_type": "execute_result"
    }
   ],
   "source": [
    "import requests\n",
    "website_url = requests.get(\"https://en.wikipedia.org/wiki/List_of_postal_codes_of_Canada:_M\").text\n",
    "from bs4 import BeautifulSoup\n",
    "soup = BeautifulSoup(website_url,\"lxml\")\n",
    "\n",
    "My_table = soup.find(\"table\",{\"class\":\"wikitable sortable\"})\n",
    "My_table\n",
    "links=My_table.findAll(\"a\")\n",
    "\n",
    "brute=[]\n",
    "for link in links:\n",
    "    brute.append(link.get(\"title\"))\n",
    "#print(brute)\n",
    "import pandas as pd\n",
    "df=pd.DataFrame()\n",
    "df[\"Neighberhoods\"]=brute\n",
    "Borough=pd.DataFrame()\n",
    "odd_i = [] \n",
    "even_i = [] \n",
    "for i in range(0, len(brute)): \n",
    "    if i % 2: \n",
    "        even_i.append(brute[i]) \n",
    "    else : \n",
    "        odd_i.append(brute[i]) \n",
    "Neighberhood=pd.DataFrame(even_i)\n",
    "Borough=pd.DataFrame(odd_i)\n",
    "#Neighberhoods_toronto=pd.DataFrame(Neighberhood,Borough)\n",
    "#Neighberhoods_toronto\n",
    "import requests\n",
    "website_url = requests.get(\"https://en.wikipedia.org/wiki/List_of_postal_codes_of_Canada:_M\").text\n",
    "from bs4 import BeautifulSoup\n",
    "soup = BeautifulSoup(website_url,\"lxml\")\n",
    "soup\n",
    "My_table = soup.find(\"table\",{\"class\":\"wikitable sortable\"})\n",
    "My_table\n",
    "links=My_table.findAll(\"td\")\n",
    "links\n",
    "for i in range(0,len(links)):\n",
    "    links[i]=str(links[i])\n",
    "    links[i]=links[i].replace('\\n','')\n",
    "    links[i]=links[i].replace('<td><a href=\"/wiki/','')\n",
    "    links[i]=links[i].replace('<a class=\"mw-redirect\" href=','')\n",
    "    links[i]=links[i].replace('</a>','')\n",
    "    links[i]=links[i].replace('\"/wiki/Islington_Avenue\" title=\"Islington Avenue\">','')\n",
    "    links[i]=links[i].replace('\"/wiki/Woodbine_Gardens\" title=\"Woodbine Gardens\">','')\n",
    "    links[i]=links[i].replace('\"/wiki/Parkview_Hill\" title=\"Parkview Hill\">','')\n",
    "    links[i]=links[i].replace('>\"/wiki','')\n",
    "\n",
    "    \n",
    "     \n",
    "        \n",
    "        \n",
    "        \n",
    "    for i in range(0, len(links)): \n",
    "        links[i]=str(links[i])\n",
    "\n",
    "import re\n",
    "for i in range(0, len(links)): \n",
    "     result = re.search(\">(.*)</t\", links[i])\n",
    "     links[i]= result.group(1)\n",
    "    \n",
    "    \n",
    "\n",
    "    \n",
    "postcode =[]\n",
    "Borough=[]\n",
    "Neighberhood=[]\n",
    "\n",
    "\n",
    "for i in range(0, len(links)): \n",
    "    if i%3==1:\n",
    "         Borough.append(links[i])\n",
    "    if i%3==2:\n",
    "        Neighberhood.append(links[i])\n",
    "    if i%3==0:\n",
    "        postcode.append(links[i])\n",
    "\n",
    "        \n",
    "postcode=pd.DataFrame(postcode)\n",
    "Borough=pd.DataFrame(Borough)\n",
    "Neighberhood=pd.DataFrame(Neighberhood)\n",
    "DATA=pd.concat([postcode,Borough,Neighberhood], axis=1, ignore_index=True)\n",
    "\n",
    "DATA.columns=[\"Postcode\",\"Borough\",\"Neighbourhood\"]\n",
    "DATA\n",
    "\n",
    "\n",
    "NEW_DATA=DATA.loc[DATA['Borough'] != \"Not assigned\"]\n",
    "\n",
    "NEW_DATA.columns=[\"Postcode\",\"Borough\",\"Neighbourhood\"]\n",
    "NEW_DATA=pd.DataFrame(NEW_DATA)\n",
    "NEW_DATA.loc[NEW_DATA['Neighbourhood'] =='Not assigned' , 'Neighbourhood'] =NEW_DATA['Borough']\n",
    "RES = NEW_DATA.groupby(['Postcode','Borough'], sort=False).agg( ', '.join)\n",
    "\n",
    "#NEW_DATA.groupby('Postcode',sort=False).count()\n",
    "#NEW_DATA.sort_values('Postcode', inplace = True) \n",
    "DATA_FINAL=RES.reset_index()\n",
    "DATA_FINAL=pd.DataFrame(DATA_FINAL)\n",
    "DATA_FINAL.shape"
   ]
  },
  {
   "cell_type": "markdown",
   "metadata": {},
   "source": [
    "## Importing the libraries\n",
    "\n",
    "\n",
    "\n",
    "\n",
    "\n",
    "\n"
   ]
  },
  {
   "cell_type": "code",
   "execution_count": null,
   "metadata": {},
   "outputs": [],
   "source": []
  },
  {
   "cell_type": "markdown",
   "metadata": {},
   "source": [
    "## Getting the cooridnates of Toronto"
   ]
  },
  {
   "cell_type": "code",
   "execution_count": 71,
   "metadata": {},
   "outputs": [
    {
     "name": "stdout",
     "output_type": "stream",
     "text": [
      "The geograpical coordinate of New York City are 43.653963, -79.387207.\n"
     ]
    }
   ],
   "source": []
  },
  {
   "cell_type": "code",
   "execution_count": null,
   "metadata": {},
   "outputs": [],
   "source": []
  },
  {
   "cell_type": "code",
   "execution_count": null,
   "metadata": {},
   "outputs": [],
   "source": []
  },
  {
   "cell_type": "code",
   "execution_count": null,
   "metadata": {},
   "outputs": [],
   "source": []
  },
  {
   "cell_type": "code",
   "execution_count": null,
   "metadata": {},
   "outputs": [],
   "source": []
  }
 ],
 "metadata": {
  "kernelspec": {
   "display_name": "Python 3",
   "language": "python",
   "name": "python3"
  },
  "language_info": {
   "codemirror_mode": {
    "name": "ipython",
    "version": 3
   },
   "file_extension": ".py",
   "mimetype": "text/x-python",
   "name": "python",
   "nbconvert_exporter": "python",
   "pygments_lexer": "ipython3",
   "version": "3.7.1"
  }
 },
 "nbformat": 4,
 "nbformat_minor": 2
}
